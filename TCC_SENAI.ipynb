{
  "nbformat": 4,
  "nbformat_minor": 0,
  "metadata": {
    "colab": {
      "provenance": []
    },
    "kernelspec": {
      "name": "python3",
      "display_name": "Python 3"
    },
    "language_info": {
      "name": "python"
    }
  },
  "cells": [
    {
      "cell_type": "code",
      "source": [
        "#PROJETO FINAL – Análise de dados com PySpark\n",
        "\n",
        "#Com o arquivo csv que você pesquisou, execute as seguintes atividades:\n",
        "#1 – Altere o nome de pelo menos cinco colunas\n",
        "\n",
        "#2 – Converta o tipo de dados de alguma coluna de sua escolha: Pode ser uma conversão para float, int, DoubleType() ou date.\n",
        "\n",
        "#3 – Realize pelo menos 5 consultas através da função pyspark.sql ou através de métodos pyspark. Pelo menos duas das consultas deve conter alguma função de agregação: contagem, média, mediana, soma, etc.\n",
        "\n",
        "#4 – Com alguma das consultas da atividade 3 crie um novo DataFrame e salve-o em formato .csv e em formato .orc.\n",
        "\n",
        "#Vocês irão desenvolver a atividade em um novo notebook do Colab e depois irão me enviar."
      ],
      "metadata": {
        "id": "SXHksW0imGgh"
      },
      "execution_count": 1,
      "outputs": []
    },
    {
      "cell_type": "code",
      "execution_count": 2,
      "metadata": {
        "id": "E4P0GQP-fU_w"
      },
      "outputs": [],
      "source": [
        "# 01. Importando funções e bibliotecas necessárias.\n",
        "from pyspark.sql import SparkSession\n",
        "from pyspark.sql import functions as f\n",
        "from pyspark.sql.types import DoubleType\n",
        "from pyspark.sql.functions import col"
      ]
    },
    {
      "cell_type": "code",
      "source": [
        "# 02. Criando objeto spark.\n",
        "spark = SparkSession.builder.appName(\"tcc_senai1\").getOrCreate()"
      ],
      "metadata": {
        "id": "sSxVoH89fY-h"
      },
      "execution_count": 3,
      "outputs": []
    },
    {
      "cell_type": "code",
      "source": [
        "spark"
      ],
      "metadata": {
        "colab": {
          "base_uri": "https://localhost:8080/",
          "height": 219
        },
        "id": "UKuOWsoxfajQ",
        "outputId": "68a860e4-f144-4847-83af-9581e7ca5b6c"
      },
      "execution_count": 4,
      "outputs": [
        {
          "output_type": "execute_result",
          "data": {
            "text/plain": [
              "<pyspark.sql.session.SparkSession at 0x7a3b5c0f4050>"
            ],
            "text/html": [
              "\n",
              "            <div>\n",
              "                <p><b>SparkSession - in-memory</b></p>\n",
              "                \n",
              "        <div>\n",
              "            <p><b>SparkContext</b></p>\n",
              "\n",
              "            <p><a href=\"http://1eba9459759f:4040\">Spark UI</a></p>\n",
              "\n",
              "            <dl>\n",
              "              <dt>Version</dt>\n",
              "                <dd><code>v3.5.5</code></dd>\n",
              "              <dt>Master</dt>\n",
              "                <dd><code>local[*]</code></dd>\n",
              "              <dt>AppName</dt>\n",
              "                <dd><code>tcc_senai1</code></dd>\n",
              "            </dl>\n",
              "        </div>\n",
              "        \n",
              "            </div>\n",
              "        "
            ]
          },
          "metadata": {},
          "execution_count": 4
        }
      ]
    },
    {
      "cell_type": "code",
      "source": [
        "# 03. Importando data frame de suicidios (2010 a 2019) fonte (kaggle).\n",
        "\n",
        "url = \"/content/drive/MyDrive/Colab Notebooks/Trabalho_Nathan/suicidios_2010_a_2019.csv\"\n",
        "\n",
        "suic = spark.read.csv(\n",
        "    url,\n",
        "    sep=\",\",\n",
        "    header=True,\n",
        "    inferSchema=True\n",
        ")"
      ],
      "metadata": {
        "id": "VpUgG6UNfmhP"
      },
      "execution_count": 5,
      "outputs": []
    },
    {
      "cell_type": "code",
      "source": [
        "#Analisando a estrutura do dataframe (suic).\n",
        "suic.printSchema()"
      ],
      "metadata": {
        "colab": {
          "base_uri": "https://localhost:8080/"
        },
        "id": "gbFm9w3egBMk",
        "outputId": "214a1156-3d3e-41bc-c8bc-bf6edc28b26b"
      },
      "execution_count": 6,
      "outputs": [
        {
          "output_type": "stream",
          "name": "stdout",
          "text": [
            "root\n",
            " |-- _c0: integer (nullable = true)\n",
            " |-- estado: string (nullable = true)\n",
            " |-- ano: integer (nullable = true)\n",
            " |-- mes: integer (nullable = true)\n",
            " |-- DTOBITO: date (nullable = true)\n",
            " |-- DTNASC: string (nullable = true)\n",
            " |-- SEXO: string (nullable = true)\n",
            " |-- RACACOR: string (nullable = true)\n",
            " |-- ASSISTMED: string (nullable = true)\n",
            " |-- ESCMAE: string (nullable = true)\n",
            " |-- ESTCIV: string (nullable = true)\n",
            " |-- ESC: string (nullable = true)\n",
            " |-- OCUP: string (nullable = true)\n",
            " |-- CODMUNRES: string (nullable = true)\n",
            " |-- CAUSABAS: string (nullable = true)\n",
            " |-- CAUSABAS_O: string (nullable = true)\n",
            " |-- LOCOCOR: string (nullable = true)\n",
            " |-- CIRURGIA: string (nullable = true)\n",
            "\n"
          ]
        }
      ]
    },
    {
      "cell_type": "code",
      "source": [
        "# 04. Alterando o tipo de dado da coluna DTNASC para \"int\" e depois para \"date\"\n",
        "suic = suic.withColumn(\"DTNASC\", suic['DTNASC'].cast(\"int\"))"
      ],
      "metadata": {
        "id": "OKcC5gJZjEGZ"
      },
      "execution_count": 7,
      "outputs": []
    },
    {
      "cell_type": "code",
      "source": [
        "# Analisando a alteração realizada\n",
        "suic.printSchema()"
      ],
      "metadata": {
        "colab": {
          "base_uri": "https://localhost:8080/"
        },
        "id": "K2nInqyLkQ0t",
        "outputId": "45ef66af-59e8-4c04-b1e4-c2f2108f5451"
      },
      "execution_count": 8,
      "outputs": [
        {
          "output_type": "stream",
          "name": "stdout",
          "text": [
            "root\n",
            " |-- _c0: integer (nullable = true)\n",
            " |-- estado: string (nullable = true)\n",
            " |-- ano: integer (nullable = true)\n",
            " |-- mes: integer (nullable = true)\n",
            " |-- DTOBITO: date (nullable = true)\n",
            " |-- DTNASC: integer (nullable = true)\n",
            " |-- SEXO: string (nullable = true)\n",
            " |-- RACACOR: string (nullable = true)\n",
            " |-- ASSISTMED: string (nullable = true)\n",
            " |-- ESCMAE: string (nullable = true)\n",
            " |-- ESTCIV: string (nullable = true)\n",
            " |-- ESC: string (nullable = true)\n",
            " |-- OCUP: string (nullable = true)\n",
            " |-- CODMUNRES: string (nullable = true)\n",
            " |-- CAUSABAS: string (nullable = true)\n",
            " |-- CAUSABAS_O: string (nullable = true)\n",
            " |-- LOCOCOR: string (nullable = true)\n",
            " |-- CIRURGIA: string (nullable = true)\n",
            "\n"
          ]
        }
      ]
    },
    {
      "cell_type": "code",
      "source": [
        "# 05.Alterando o tipo de dado da coluna DTNASC, de \"int\" para \"date\"\n",
        "suic = suic.withColumn(\"DTNASC\",\n",
        "                f.to_date(\"DTNASC\", \"yyyyMMdd\")\n",
        ")"
      ],
      "metadata": {
        "id": "aGMYWYqAmfbe"
      },
      "execution_count": 9,
      "outputs": []
    },
    {
      "cell_type": "code",
      "source": [
        "# Analisando a alteração realizada\n",
        "suic.printSchema()"
      ],
      "metadata": {
        "colab": {
          "base_uri": "https://localhost:8080/"
        },
        "id": "u6qQ4PEdnCme",
        "outputId": "f039af54-0ad3-43df-d4e8-c0084da49671"
      },
      "execution_count": 10,
      "outputs": [
        {
          "output_type": "stream",
          "name": "stdout",
          "text": [
            "root\n",
            " |-- _c0: integer (nullable = true)\n",
            " |-- estado: string (nullable = true)\n",
            " |-- ano: integer (nullable = true)\n",
            " |-- mes: integer (nullable = true)\n",
            " |-- DTOBITO: date (nullable = true)\n",
            " |-- DTNASC: date (nullable = true)\n",
            " |-- SEXO: string (nullable = true)\n",
            " |-- RACACOR: string (nullable = true)\n",
            " |-- ASSISTMED: string (nullable = true)\n",
            " |-- ESCMAE: string (nullable = true)\n",
            " |-- ESTCIV: string (nullable = true)\n",
            " |-- ESC: string (nullable = true)\n",
            " |-- OCUP: string (nullable = true)\n",
            " |-- CODMUNRES: string (nullable = true)\n",
            " |-- CAUSABAS: string (nullable = true)\n",
            " |-- CAUSABAS_O: string (nullable = true)\n",
            " |-- LOCOCOR: string (nullable = true)\n",
            " |-- CIRURGIA: string (nullable = true)\n",
            "\n"
          ]
        }
      ]
    },
    {
      "cell_type": "code",
      "source": [
        "# Analisando o dataframe antes de alterar retirar colunas desnecessárias.\n",
        "suic.show(20, truncate=False)"
      ],
      "metadata": {
        "colab": {
          "base_uri": "https://localhost:8080/"
        },
        "id": "ztPw3A64nLxm",
        "outputId": "207fad02-d107-4504-c723-1592c6a8edd2"
      },
      "execution_count": 11,
      "outputs": [
        {
          "output_type": "stream",
          "name": "stdout",
          "text": [
            "+---+------+----+---+----------+------+---------+-------+---------+------+----------+-----------+----------------------+--------------+--------+----------+-----------+--------+\n",
            "|_c0|estado|ano |mes|DTOBITO   |DTNASC|SEXO     |RACACOR|ASSISTMED|ESCMAE|ESTCIV    |ESC        |OCUP                  |CODMUNRES     |CAUSABAS|CAUSABAS_O|LOCOCOR    |CIRURGIA|\n",
            "+---+------+----+---+----------+------+---------+-------+---------+------+----------+-----------+----------------------+--------------+--------+----------+-----------+--------+\n",
            "|1  |AC    |2010|1  |2010-01-31|NULL  |Masculino|Parda  |NA       |NA    |Solteiro/a|1 a 3 anos |ESTUDANTE             |Tarauacá      |X780    |X780      |Via pública|Não     |\n",
            "|2  |AC    |2010|2  |2010-02-07|NULL  |Masculino|Parda  |NA       |NA    |Solteiro/a|1 a 3 anos |ESTUDANTE             |Tarauacá      |X780    |X780      |Hospital   |Não     |\n",
            "|3  |AC    |2010|2  |2010-02-19|NULL  |Masculino|Parda  |NA       |NA    |Solteiro/a|1 a 3 anos |ESTUDANTE             |Tarauacá      |X780    |X780      |Hospital   |Não     |\n",
            "|4  |AC    |2010|4  |2010-04-20|NULL  |Feminino |Parda  |NA       |NA    |Casado/a  |1 a 3 anos |DONA DE CASA          |Tarauacá      |X780    |X780      |Domicílio  |Não     |\n",
            "|5  |AC    |2010|7  |2010-07-24|NULL  |Masculino|Parda  |NA       |NA    |Casado/a  |NA         |DONA DE CASA          |Tarauacá      |X720    |X720      |Domicílio  |Não     |\n",
            "|6  |AC    |2010|4  |2010-04-30|NULL  |Feminino |Preta  |NA       |NA    |Solteiro/a|4 a 7 anos |DONA DE CASA          |Tarauacá      |X780    |X780      |Hospital   |Não     |\n",
            "|7  |AC    |2010|1  |2010-01-15|NULL  |Masculino|Parda  |NA       |NA    |Solteiro/a|4 a 7 anos |NA                    |Rio Branco    |X700    |X700      |Domicílio  |Não     |\n",
            "|8  |AC    |2010|1  |2010-01-16|NULL  |Masculino|Parda  |NA       |NA    |Solteiro/a|NA         |NA                    |Rio Branco    |X700    |X700      |Domicílio  |Não     |\n",
            "|9  |AC    |2010|9  |2010-09-15|NULL  |Masculino|Parda  |NA       |NA    |Solteiro/a|NA         |NA                    |Rio Branco    |X629    |R99       |Domicílio  |NA      |\n",
            "|10 |AC    |2010|9  |2010-09-03|NULL  |Masculino|Parda  |NA       |NA    |Solteiro/a|NA         |NA                    |Epitaciolândia|X747    |X747      |Domicílio  |Não     |\n",
            "|11 |AC    |2010|9  |2010-09-05|NULL  |Masculino|Parda  |NA       |NA    |Solteiro/a|NA         |NA                    |Rio Branco    |X700    |X700      |Domicílio  |NA      |\n",
            "|12 |AC    |2010|8  |2010-08-25|NULL  |Masculino|NA     |NA       |NA    |NA        |NA         |NA                    |Rio Branco    |X700    |X700      |Domicílio  |NA      |\n",
            "|13 |AC    |2010|10 |2010-10-08|NULL  |Feminino |NA     |NA       |NA    |Casado/a  |NA         |NA                    |Rio Branco    |X699    |X699      |Domicílio  |Não     |\n",
            "|14 |AC    |2010|10 |2010-10-22|NULL  |Masculino|Parda  |NA       |NA    |Solteiro/a|NA         |NA                    |Rio Branco    |X709    |X709      |Domicílio  |NA      |\n",
            "|15 |AC    |2010|10 |2010-10-18|NULL  |Masculino|Parda  |NA       |NA    |Solteiro/a|NA         |NA                    |Porto Acre    |X740    |X740      |Outros     |NA      |\n",
            "|16 |AC    |2010|10 |2010-10-25|NULL  |Masculino|Branca |NA       |NA    |Solteiro/a|NA         |NA                    |Rio Branco    |X749    |X749      |Domicílio  |Não     |\n",
            "|17 |AC    |2010|5  |2010-05-11|NULL  |Masculino|Branca |NA       |NA    |Solteiro/a|NA         |APOSENTADO/PENSIONISTA|Rio Branco    |X629    |R98       |Domicílio  |NA      |\n",
            "|18 |AC    |2010|1  |2010-01-15|NULL  |Feminino |Amarela|NA       |NA    |Solteiro/a|NA         |ESTUDANTE             |Rio Branco    |X689    |X689      |Hospital   |Não     |\n",
            "|19 |AC    |2010|3  |2010-03-18|NULL  |Masculino|NA     |NA       |NA    |NA        |NA         |NA                    |Rio Branco    |X709    |X709      |Domicílio  |NA      |\n",
            "|20 |AC    |2010|3  |2010-03-19|NULL  |Masculino|Parda  |NA       |NA    |Solteiro/a|8 a 11 anos|ESTUDANTE             |Rio Branco    |X700    |X700      |Domicílio  |Não     |\n",
            "+---+------+----+---+----------+------+---------+-------+---------+------+----------+-----------+----------------------+--------------+--------+----------+-----------+--------+\n",
            "only showing top 20 rows\n",
            "\n"
          ]
        }
      ]
    },
    {
      "cell_type": "code",
      "source": [
        "# Retirando colunas e analisando o resultado\n",
        "suic.drop(\"ASSISTMED\", \"ESCMAE\", \"CAUSABAS\", \"CAUSABAS_O\").show(10, truncate=False)"
      ],
      "metadata": {
        "colab": {
          "base_uri": "https://localhost:8080/"
        },
        "id": "IwJJ_-G-nbab",
        "outputId": "5199c467-6114-4400-e2ef-c2d5820f52c3"
      },
      "execution_count": 12,
      "outputs": [
        {
          "output_type": "stream",
          "name": "stdout",
          "text": [
            "+---+------+----+---+----------+------+---------+-------+----------+----------+------------+--------------+-----------+--------+\n",
            "|_c0|estado|ano |mes|DTOBITO   |DTNASC|SEXO     |RACACOR|ESTCIV    |ESC       |OCUP        |CODMUNRES     |LOCOCOR    |CIRURGIA|\n",
            "+---+------+----+---+----------+------+---------+-------+----------+----------+------------+--------------+-----------+--------+\n",
            "|1  |AC    |2010|1  |2010-01-31|NULL  |Masculino|Parda  |Solteiro/a|1 a 3 anos|ESTUDANTE   |Tarauacá      |Via pública|Não     |\n",
            "|2  |AC    |2010|2  |2010-02-07|NULL  |Masculino|Parda  |Solteiro/a|1 a 3 anos|ESTUDANTE   |Tarauacá      |Hospital   |Não     |\n",
            "|3  |AC    |2010|2  |2010-02-19|NULL  |Masculino|Parda  |Solteiro/a|1 a 3 anos|ESTUDANTE   |Tarauacá      |Hospital   |Não     |\n",
            "|4  |AC    |2010|4  |2010-04-20|NULL  |Feminino |Parda  |Casado/a  |1 a 3 anos|DONA DE CASA|Tarauacá      |Domicílio  |Não     |\n",
            "|5  |AC    |2010|7  |2010-07-24|NULL  |Masculino|Parda  |Casado/a  |NA        |DONA DE CASA|Tarauacá      |Domicílio  |Não     |\n",
            "|6  |AC    |2010|4  |2010-04-30|NULL  |Feminino |Preta  |Solteiro/a|4 a 7 anos|DONA DE CASA|Tarauacá      |Hospital   |Não     |\n",
            "|7  |AC    |2010|1  |2010-01-15|NULL  |Masculino|Parda  |Solteiro/a|4 a 7 anos|NA          |Rio Branco    |Domicílio  |Não     |\n",
            "|8  |AC    |2010|1  |2010-01-16|NULL  |Masculino|Parda  |Solteiro/a|NA        |NA          |Rio Branco    |Domicílio  |Não     |\n",
            "|9  |AC    |2010|9  |2010-09-15|NULL  |Masculino|Parda  |Solteiro/a|NA        |NA          |Rio Branco    |Domicílio  |NA      |\n",
            "|10 |AC    |2010|9  |2010-09-03|NULL  |Masculino|Parda  |Solteiro/a|NA        |NA          |Epitaciolândia|Domicílio  |Não     |\n",
            "+---+------+----+---+----------+------+---------+-------+----------+----------+------------+--------------+-----------+--------+\n",
            "only showing top 10 rows\n",
            "\n"
          ]
        }
      ]
    },
    {
      "cell_type": "code",
      "source": [
        "# Realizando a alteração (exclusão das colunas = (\"ASSISTMED\", \"ESCMAE\", \"CAUSABAS\", \"CAUSABAS_O\"))\n",
        "suic = suic.drop(\"ASSISTMED\", \"ESCMAE\", \"CAUSABAS\", \"CAUSABAS_O\", \"CIRURGIA\")"
      ],
      "metadata": {
        "id": "Ot1uA3H6oHmH"
      },
      "execution_count": 13,
      "outputs": []
    },
    {
      "cell_type": "code",
      "source": [
        "# Verificando alteração realizada\n",
        "suic.show(10, truncate=False)"
      ],
      "metadata": {
        "colab": {
          "base_uri": "https://localhost:8080/"
        },
        "id": "xR8ACi0rofRu",
        "outputId": "e27bd3bd-15bc-4895-a684-6cf0d8b4e92a"
      },
      "execution_count": 14,
      "outputs": [
        {
          "output_type": "stream",
          "name": "stdout",
          "text": [
            "+---+------+----+---+----------+------+---------+-------+----------+----------+------------+--------------+-----------+\n",
            "|_c0|estado|ano |mes|DTOBITO   |DTNASC|SEXO     |RACACOR|ESTCIV    |ESC       |OCUP        |CODMUNRES     |LOCOCOR    |\n",
            "+---+------+----+---+----------+------+---------+-------+----------+----------+------------+--------------+-----------+\n",
            "|1  |AC    |2010|1  |2010-01-31|NULL  |Masculino|Parda  |Solteiro/a|1 a 3 anos|ESTUDANTE   |Tarauacá      |Via pública|\n",
            "|2  |AC    |2010|2  |2010-02-07|NULL  |Masculino|Parda  |Solteiro/a|1 a 3 anos|ESTUDANTE   |Tarauacá      |Hospital   |\n",
            "|3  |AC    |2010|2  |2010-02-19|NULL  |Masculino|Parda  |Solteiro/a|1 a 3 anos|ESTUDANTE   |Tarauacá      |Hospital   |\n",
            "|4  |AC    |2010|4  |2010-04-20|NULL  |Feminino |Parda  |Casado/a  |1 a 3 anos|DONA DE CASA|Tarauacá      |Domicílio  |\n",
            "|5  |AC    |2010|7  |2010-07-24|NULL  |Masculino|Parda  |Casado/a  |NA        |DONA DE CASA|Tarauacá      |Domicílio  |\n",
            "|6  |AC    |2010|4  |2010-04-30|NULL  |Feminino |Preta  |Solteiro/a|4 a 7 anos|DONA DE CASA|Tarauacá      |Hospital   |\n",
            "|7  |AC    |2010|1  |2010-01-15|NULL  |Masculino|Parda  |Solteiro/a|4 a 7 anos|NA          |Rio Branco    |Domicílio  |\n",
            "|8  |AC    |2010|1  |2010-01-16|NULL  |Masculino|Parda  |Solteiro/a|NA        |NA          |Rio Branco    |Domicílio  |\n",
            "|9  |AC    |2010|9  |2010-09-15|NULL  |Masculino|Parda  |Solteiro/a|NA        |NA          |Rio Branco    |Domicílio  |\n",
            "|10 |AC    |2010|9  |2010-09-03|NULL  |Masculino|Parda  |Solteiro/a|NA        |NA          |Epitaciolândia|Domicílio  |\n",
            "+---+------+----+---+----------+------+---------+-------+----------+----------+------------+--------------+-----------+\n",
            "only showing top 10 rows\n",
            "\n"
          ]
        }
      ]
    },
    {
      "cell_type": "code",
      "source": [
        "# Alterando o nome das colunas, analisando o resultado\n",
        "suic.withColumnsRenamed({\n",
        "    \"_c0\" : \"codigo\",\n",
        "    \"DTOBITO\" : \"data_do_obito\",\n",
        "    \"RACACOR\" : \"raca_cor\",\n",
        "    \"ESTCIV\" : \"estado_civil\",\n",
        "    \"ESC\" : \"escolaridade\",\n",
        "    \"OCUP\" : \"ocupacao\",\n",
        "    \"CODMUNRES\" : \"municipio\",\n",
        "    \"LOCOCOR\" : \"local_do_obito\",\n",
        "    \"SEXO\" : \"sexo\"\n",
        "}).show(10, truncate=False)"
      ],
      "metadata": {
        "colab": {
          "base_uri": "https://localhost:8080/"
        },
        "id": "4RBEUzxmooqX",
        "outputId": "041e7053-fc77-4e5c-d057-649b4161411d"
      },
      "execution_count": 15,
      "outputs": [
        {
          "output_type": "stream",
          "name": "stdout",
          "text": [
            "+------+------+----+---+-------------+------+---------+--------+------------+------------+------------+--------------+--------------+\n",
            "|codigo|estado|ano |mes|data_do_obito|DTNASC|sexo     |raca_cor|estado_civil|escolaridade|ocupacao    |municipio     |local_do_obito|\n",
            "+------+------+----+---+-------------+------+---------+--------+------------+------------+------------+--------------+--------------+\n",
            "|1     |AC    |2010|1  |2010-01-31   |NULL  |Masculino|Parda   |Solteiro/a  |1 a 3 anos  |ESTUDANTE   |Tarauacá      |Via pública   |\n",
            "|2     |AC    |2010|2  |2010-02-07   |NULL  |Masculino|Parda   |Solteiro/a  |1 a 3 anos  |ESTUDANTE   |Tarauacá      |Hospital      |\n",
            "|3     |AC    |2010|2  |2010-02-19   |NULL  |Masculino|Parda   |Solteiro/a  |1 a 3 anos  |ESTUDANTE   |Tarauacá      |Hospital      |\n",
            "|4     |AC    |2010|4  |2010-04-20   |NULL  |Feminino |Parda   |Casado/a    |1 a 3 anos  |DONA DE CASA|Tarauacá      |Domicílio     |\n",
            "|5     |AC    |2010|7  |2010-07-24   |NULL  |Masculino|Parda   |Casado/a    |NA          |DONA DE CASA|Tarauacá      |Domicílio     |\n",
            "|6     |AC    |2010|4  |2010-04-30   |NULL  |Feminino |Preta   |Solteiro/a  |4 a 7 anos  |DONA DE CASA|Tarauacá      |Hospital      |\n",
            "|7     |AC    |2010|1  |2010-01-15   |NULL  |Masculino|Parda   |Solteiro/a  |4 a 7 anos  |NA          |Rio Branco    |Domicílio     |\n",
            "|8     |AC    |2010|1  |2010-01-16   |NULL  |Masculino|Parda   |Solteiro/a  |NA          |NA          |Rio Branco    |Domicílio     |\n",
            "|9     |AC    |2010|9  |2010-09-15   |NULL  |Masculino|Parda   |Solteiro/a  |NA          |NA          |Rio Branco    |Domicílio     |\n",
            "|10    |AC    |2010|9  |2010-09-03   |NULL  |Masculino|Parda   |Solteiro/a  |NA          |NA          |Epitaciolândia|Domicílio     |\n",
            "+------+------+----+---+-------------+------+---------+--------+------------+------------+------------+--------------+--------------+\n",
            "only showing top 10 rows\n",
            "\n"
          ]
        }
      ]
    },
    {
      "cell_type": "code",
      "source": [
        "#Realizando a alteração\n",
        "suic = suic.withColumnsRenamed({\n",
        "    \"_c0\" : \"codigo\",\n",
        "    \"DTOBITO\" : \"data_do_obito\",\n",
        "    \"RACACOR\" : \"raca_cor\",\n",
        "    \"ESTCIV\" : \"estado_civil\",\n",
        "    \"ESC\" : \"escolaridade\",\n",
        "    \"OCUP\" : \"ocupacao\",\n",
        "    \"CODMUNRES\" : \"municipio\",\n",
        "    \"LOCOCOR\" : \"local_do_obito\",\n",
        "    \"SEXO\" : \"sexo\"\n",
        "})"
      ],
      "metadata": {
        "id": "J4PJ0W73p7Zr"
      },
      "execution_count": 16,
      "outputs": []
    },
    {
      "cell_type": "code",
      "source": [
        "# Verificando a alteração\n",
        "suic.show(10, truncate=False)"
      ],
      "metadata": {
        "colab": {
          "base_uri": "https://localhost:8080/"
        },
        "id": "mJ9c3f5UqHdj",
        "outputId": "b781b82f-e7d9-455f-b05d-6c169c89a4b2"
      },
      "execution_count": 17,
      "outputs": [
        {
          "output_type": "stream",
          "name": "stdout",
          "text": [
            "+------+------+----+---+-------------+------+---------+--------+------------+------------+------------+--------------+--------------+\n",
            "|codigo|estado|ano |mes|data_do_obito|DTNASC|sexo     |raca_cor|estado_civil|escolaridade|ocupacao    |municipio     |local_do_obito|\n",
            "+------+------+----+---+-------------+------+---------+--------+------------+------------+------------+--------------+--------------+\n",
            "|1     |AC    |2010|1  |2010-01-31   |NULL  |Masculino|Parda   |Solteiro/a  |1 a 3 anos  |ESTUDANTE   |Tarauacá      |Via pública   |\n",
            "|2     |AC    |2010|2  |2010-02-07   |NULL  |Masculino|Parda   |Solteiro/a  |1 a 3 anos  |ESTUDANTE   |Tarauacá      |Hospital      |\n",
            "|3     |AC    |2010|2  |2010-02-19   |NULL  |Masculino|Parda   |Solteiro/a  |1 a 3 anos  |ESTUDANTE   |Tarauacá      |Hospital      |\n",
            "|4     |AC    |2010|4  |2010-04-20   |NULL  |Feminino |Parda   |Casado/a    |1 a 3 anos  |DONA DE CASA|Tarauacá      |Domicílio     |\n",
            "|5     |AC    |2010|7  |2010-07-24   |NULL  |Masculino|Parda   |Casado/a    |NA          |DONA DE CASA|Tarauacá      |Domicílio     |\n",
            "|6     |AC    |2010|4  |2010-04-30   |NULL  |Feminino |Preta   |Solteiro/a  |4 a 7 anos  |DONA DE CASA|Tarauacá      |Hospital      |\n",
            "|7     |AC    |2010|1  |2010-01-15   |NULL  |Masculino|Parda   |Solteiro/a  |4 a 7 anos  |NA          |Rio Branco    |Domicílio     |\n",
            "|8     |AC    |2010|1  |2010-01-16   |NULL  |Masculino|Parda   |Solteiro/a  |NA          |NA          |Rio Branco    |Domicílio     |\n",
            "|9     |AC    |2010|9  |2010-09-15   |NULL  |Masculino|Parda   |Solteiro/a  |NA          |NA          |Rio Branco    |Domicílio     |\n",
            "|10    |AC    |2010|9  |2010-09-03   |NULL  |Masculino|Parda   |Solteiro/a  |NA          |NA          |Epitaciolândia|Domicílio     |\n",
            "+------+------+----+---+-------------+------+---------+--------+------------+------------+------------+--------------+--------------+\n",
            "only showing top 10 rows\n",
            "\n"
          ]
        }
      ]
    },
    {
      "cell_type": "code",
      "source": [
        "#Incluindo um segundo dataframe para união com Join\n",
        "\n",
        "url = \"/content/drive/MyDrive/Colab Notebooks/Trabalho_Nathan/suicidios_por_estados.csv\"\n",
        "\n",
        "mort_est = spark.read.csv(\n",
        "    url,\n",
        "    sep=\",\",\n",
        "    header=True,\n",
        "    inferSchema=True\n",
        ")"
      ],
      "metadata": {
        "id": "zwdsCDcqqcxL"
      },
      "execution_count": 18,
      "outputs": []
    },
    {
      "cell_type": "code",
      "source": [
        "mort_est.show(10, truncate=False)"
      ],
      "metadata": {
        "colab": {
          "base_uri": "https://localhost:8080/"
        },
        "id": "GRhokCRjsEvu",
        "outputId": "1fce0022-2452-4a45-eb21-e1c26e6d6f36"
      },
      "execution_count": 19,
      "outputs": [
        {
          "output_type": "stream",
          "name": "stdout",
          "text": [
            "+---+------------+---------+--------+----+--------+\n",
            "|_c0|abrev_estado|estado   |regiao  |n   |pop_ibge|\n",
            "+---+------------+---------+--------+----+--------+\n",
            "|1  |RO          |Rondônia |Norte   |995 |1562409 |\n",
            "|2  |AC          |Acre     |Norte   |508 |733559  |\n",
            "|3  |AM          |Amazônas |Norte   |2145|3483985 |\n",
            "|4  |RR          |Roraima  |Norte   |402 |450479  |\n",
            "|5  |PA          |Pará     |Norte   |2640|7581051 |\n",
            "|6  |AP          |Amapá    |Norte   |429 |669526  |\n",
            "|7  |TO          |Tocantins|Norte   |1030|1383445 |\n",
            "|8  |MA          |Maranhão |Nordeste|2676|6574789 |\n",
            "|9  |PI          |Piauí    |Nordeste|2710|3118360 |\n",
            "|10 |CE          |Ceará    |Nordeste|5805|8452381 |\n",
            "+---+------------+---------+--------+----+--------+\n",
            "only showing top 10 rows\n",
            "\n"
          ]
        }
      ]
    },
    {
      "cell_type": "code",
      "source": [
        "mort_est = mort_est.drop(\"estado\")"
      ],
      "metadata": {
        "id": "aZkU2FwyxC0N"
      },
      "execution_count": 20,
      "outputs": []
    },
    {
      "cell_type": "code",
      "source": [
        "# Unindo os dois dataframes\n",
        "df_result = suic.join(mort_est, suic.estado == mort_est.abrev_estado, how=\"inner\")"
      ],
      "metadata": {
        "id": "dtOZ2LoKs33-"
      },
      "execution_count": 21,
      "outputs": []
    },
    {
      "cell_type": "code",
      "source": [
        "#Verificando o novo dataframe (df_result)\n",
        "df_result.show(10, truncate=False)"
      ],
      "metadata": {
        "colab": {
          "base_uri": "https://localhost:8080/"
        },
        "id": "kTyJMpqctAlY",
        "outputId": "2bf2a36d-45f6-427d-a605-1835dd7e913b"
      },
      "execution_count": 22,
      "outputs": [
        {
          "output_type": "stream",
          "name": "stdout",
          "text": [
            "+------+------+----+---+-------------+------+---------+--------+------------+------------+------------+--------------+--------------+---+------------+------+---+--------+\n",
            "|codigo|estado|ano |mes|data_do_obito|DTNASC|sexo     |raca_cor|estado_civil|escolaridade|ocupacao    |municipio     |local_do_obito|_c0|abrev_estado|regiao|n  |pop_ibge|\n",
            "+------+------+----+---+-------------+------+---------+--------+------------+------------+------------+--------------+--------------+---+------------+------+---+--------+\n",
            "|1     |AC    |2010|1  |2010-01-31   |NULL  |Masculino|Parda   |Solteiro/a  |1 a 3 anos  |ESTUDANTE   |Tarauacá      |Via pública   |2  |AC          |Norte |508|733559  |\n",
            "|2     |AC    |2010|2  |2010-02-07   |NULL  |Masculino|Parda   |Solteiro/a  |1 a 3 anos  |ESTUDANTE   |Tarauacá      |Hospital      |2  |AC          |Norte |508|733559  |\n",
            "|3     |AC    |2010|2  |2010-02-19   |NULL  |Masculino|Parda   |Solteiro/a  |1 a 3 anos  |ESTUDANTE   |Tarauacá      |Hospital      |2  |AC          |Norte |508|733559  |\n",
            "|4     |AC    |2010|4  |2010-04-20   |NULL  |Feminino |Parda   |Casado/a    |1 a 3 anos  |DONA DE CASA|Tarauacá      |Domicílio     |2  |AC          |Norte |508|733559  |\n",
            "|5     |AC    |2010|7  |2010-07-24   |NULL  |Masculino|Parda   |Casado/a    |NA          |DONA DE CASA|Tarauacá      |Domicílio     |2  |AC          |Norte |508|733559  |\n",
            "|6     |AC    |2010|4  |2010-04-30   |NULL  |Feminino |Preta   |Solteiro/a  |4 a 7 anos  |DONA DE CASA|Tarauacá      |Hospital      |2  |AC          |Norte |508|733559  |\n",
            "|7     |AC    |2010|1  |2010-01-15   |NULL  |Masculino|Parda   |Solteiro/a  |4 a 7 anos  |NA          |Rio Branco    |Domicílio     |2  |AC          |Norte |508|733559  |\n",
            "|8     |AC    |2010|1  |2010-01-16   |NULL  |Masculino|Parda   |Solteiro/a  |NA          |NA          |Rio Branco    |Domicílio     |2  |AC          |Norte |508|733559  |\n",
            "|9     |AC    |2010|9  |2010-09-15   |NULL  |Masculino|Parda   |Solteiro/a  |NA          |NA          |Rio Branco    |Domicílio     |2  |AC          |Norte |508|733559  |\n",
            "|10    |AC    |2010|9  |2010-09-03   |NULL  |Masculino|Parda   |Solteiro/a  |NA          |NA          |Epitaciolândia|Domicílio     |2  |AC          |Norte |508|733559  |\n",
            "+------+------+----+---+-------------+------+---------+--------+------------+------------+------------+--------------+--------------+---+------------+------+---+--------+\n",
            "only showing top 10 rows\n",
            "\n"
          ]
        }
      ]
    },
    {
      "cell_type": "code",
      "source": [
        "df_result = df_result.drop(\"abrev_estado\")"
      ],
      "metadata": {
        "id": "31o5XFJ9uaZS"
      },
      "execution_count": 23,
      "outputs": []
    },
    {
      "cell_type": "code",
      "source": [
        "from os import truncate\n",
        "df_result.show(20, truncate=False)"
      ],
      "metadata": {
        "colab": {
          "base_uri": "https://localhost:8080/"
        },
        "id": "coo9BHQBus6s",
        "outputId": "5e7cd918-2461-4686-fea4-1e29c47ac67a"
      },
      "execution_count": 24,
      "outputs": [
        {
          "output_type": "stream",
          "name": "stdout",
          "text": [
            "+------+------+----+---+-------------+------+---------+--------+------------+------------+----------------------+--------------+--------------+---+------+---+--------+\n",
            "|codigo|estado|ano |mes|data_do_obito|DTNASC|sexo     |raca_cor|estado_civil|escolaridade|ocupacao              |municipio     |local_do_obito|_c0|regiao|n  |pop_ibge|\n",
            "+------+------+----+---+-------------+------+---------+--------+------------+------------+----------------------+--------------+--------------+---+------+---+--------+\n",
            "|1     |AC    |2010|1  |2010-01-31   |NULL  |Masculino|Parda   |Solteiro/a  |1 a 3 anos  |ESTUDANTE             |Tarauacá      |Via pública   |2  |Norte |508|733559  |\n",
            "|2     |AC    |2010|2  |2010-02-07   |NULL  |Masculino|Parda   |Solteiro/a  |1 a 3 anos  |ESTUDANTE             |Tarauacá      |Hospital      |2  |Norte |508|733559  |\n",
            "|3     |AC    |2010|2  |2010-02-19   |NULL  |Masculino|Parda   |Solteiro/a  |1 a 3 anos  |ESTUDANTE             |Tarauacá      |Hospital      |2  |Norte |508|733559  |\n",
            "|4     |AC    |2010|4  |2010-04-20   |NULL  |Feminino |Parda   |Casado/a    |1 a 3 anos  |DONA DE CASA          |Tarauacá      |Domicílio     |2  |Norte |508|733559  |\n",
            "|5     |AC    |2010|7  |2010-07-24   |NULL  |Masculino|Parda   |Casado/a    |NA          |DONA DE CASA          |Tarauacá      |Domicílio     |2  |Norte |508|733559  |\n",
            "|6     |AC    |2010|4  |2010-04-30   |NULL  |Feminino |Preta   |Solteiro/a  |4 a 7 anos  |DONA DE CASA          |Tarauacá      |Hospital      |2  |Norte |508|733559  |\n",
            "|7     |AC    |2010|1  |2010-01-15   |NULL  |Masculino|Parda   |Solteiro/a  |4 a 7 anos  |NA                    |Rio Branco    |Domicílio     |2  |Norte |508|733559  |\n",
            "|8     |AC    |2010|1  |2010-01-16   |NULL  |Masculino|Parda   |Solteiro/a  |NA          |NA                    |Rio Branco    |Domicílio     |2  |Norte |508|733559  |\n",
            "|9     |AC    |2010|9  |2010-09-15   |NULL  |Masculino|Parda   |Solteiro/a  |NA          |NA                    |Rio Branco    |Domicílio     |2  |Norte |508|733559  |\n",
            "|10    |AC    |2010|9  |2010-09-03   |NULL  |Masculino|Parda   |Solteiro/a  |NA          |NA                    |Epitaciolândia|Domicílio     |2  |Norte |508|733559  |\n",
            "|11    |AC    |2010|9  |2010-09-05   |NULL  |Masculino|Parda   |Solteiro/a  |NA          |NA                    |Rio Branco    |Domicílio     |2  |Norte |508|733559  |\n",
            "|12    |AC    |2010|8  |2010-08-25   |NULL  |Masculino|NA      |NA          |NA          |NA                    |Rio Branco    |Domicílio     |2  |Norte |508|733559  |\n",
            "|13    |AC    |2010|10 |2010-10-08   |NULL  |Feminino |NA      |Casado/a    |NA          |NA                    |Rio Branco    |Domicílio     |2  |Norte |508|733559  |\n",
            "|14    |AC    |2010|10 |2010-10-22   |NULL  |Masculino|Parda   |Solteiro/a  |NA          |NA                    |Rio Branco    |Domicílio     |2  |Norte |508|733559  |\n",
            "|15    |AC    |2010|10 |2010-10-18   |NULL  |Masculino|Parda   |Solteiro/a  |NA          |NA                    |Porto Acre    |Outros        |2  |Norte |508|733559  |\n",
            "|16    |AC    |2010|10 |2010-10-25   |NULL  |Masculino|Branca  |Solteiro/a  |NA          |NA                    |Rio Branco    |Domicílio     |2  |Norte |508|733559  |\n",
            "|17    |AC    |2010|5  |2010-05-11   |NULL  |Masculino|Branca  |Solteiro/a  |NA          |APOSENTADO/PENSIONISTA|Rio Branco    |Domicílio     |2  |Norte |508|733559  |\n",
            "|18    |AC    |2010|1  |2010-01-15   |NULL  |Feminino |Amarela |Solteiro/a  |NA          |ESTUDANTE             |Rio Branco    |Hospital      |2  |Norte |508|733559  |\n",
            "|19    |AC    |2010|3  |2010-03-18   |NULL  |Masculino|NA      |NA          |NA          |NA                    |Rio Branco    |Domicílio     |2  |Norte |508|733559  |\n",
            "|20    |AC    |2010|3  |2010-03-19   |NULL  |Masculino|Parda   |Solteiro/a  |8 a 11 anos |ESTUDANTE             |Rio Branco    |Domicílio     |2  |Norte |508|733559  |\n",
            "+------+------+----+---+-------------+------+---------+--------+------------+------------+----------------------+--------------+--------------+---+------+---+--------+\n",
            "only showing top 20 rows\n",
            "\n"
          ]
        }
      ]
    },
    {
      "cell_type": "code",
      "source": [
        "#CRIANDO DADOS ESTATISTICOS\n",
        "df_result\\\n",
        "        .groupBy(\"estado\", \"regiao\")\\\n",
        "        .agg(\n",
        "            f.format_number(f.sum(\"n\"), 2).alias(\"total_obitos\"),\n",
        "            f.median(\"n\").cast(\"int\").alias(\"media_mensal\"),\n",
        "            f.count_distinct(\"data_do_obito\"). alias(\"qtd_de_datas\"),\n",
        "            f.stddev(\"n\").alias(\"desvio_padrao\"),\n",
        "            f.variance(\"n\").alias(\"Variancia\")\n",
        "\n",
        "\n",
        "\n",
        "\n",
        "        )\\\n",
        "       .orderBy(\"estado\", ascending=False)\\\n",
        "       .toPandas()"
      ],
      "metadata": {
        "colab": {
          "base_uri": "https://localhost:8080/",
          "height": 896
        },
        "id": "W-pVaAHnwlV1",
        "outputId": "cb02f25e-a37c-4700-d49d-e567ef7f2ba2"
      },
      "execution_count": 35,
      "outputs": [
        {
          "output_type": "execute_result",
          "data": {
            "text/plain": [
              "   estado        regiao    total_obitos  media_mensal  qtd_de_datas  \\\n",
              "0      TO         Norte    1,060,900.00          1030           892   \n",
              "1      SP       Sudeste  482,680,900.00         21970          3645   \n",
              "2      SE      Nordeste    1,471,369.00          1213          1033   \n",
              "3      SC           Sul   40,309,801.00          6349          2961   \n",
              "4      RS           Sul  140,659,600.00         11860          3506   \n",
              "5      RR         Norte      161,604.00           402           383   \n",
              "6      RO         Norte      990,025.00           995           866   \n",
              "7      RN      Nordeste    3,003,289.00          1733          1368   \n",
              "8      RJ       Sudeste   28,869,129.00          5373          2774   \n",
              "9      PR           Sul   52,591,504.00          7252          3063   \n",
              "10     PI      Nordeste    7,344,100.00          2710          1895   \n",
              "11     PE      Nordeste   12,837,889.00          3583          2256   \n",
              "12     PB      Nordeste    4,036,081.00          2009          1536   \n",
              "13     PA         Norte    6,969,600.00          2640          1814   \n",
              "14     MT  Centro Oeste    3,367,225.00          1835          1438   \n",
              "15     MS  Centro Oeste    5,244,100.00          2290          1714   \n",
              "16     MG       Sudeste  183,358,681.00         13541          3542   \n",
              "17     MA      Nordeste    7,160,976.00          2676          1885   \n",
              "18     GO  Centro Oeste   19,829,209.00          4453          2531   \n",
              "19     ES       Sudeste    3,606,201.00          1899          1473   \n",
              "20     DF  Centro Oeste    2,220,100.00          1490          1183   \n",
              "21     CE      Nordeste   33,698,025.00          5805          2898   \n",
              "22     BA      Nordeste   26,440,164.00          5142          2725   \n",
              "23     AP         Norte      184,041.00           429           394   \n",
              "24     AM         Norte    4,601,025.00          2145          1588   \n",
              "25     AL      Nordeste    1,343,281.00          1159           988   \n",
              "26     AC         Norte      258,064.00           508           470   \n",
              "\n",
              "    desvio_padrao     Variancia  \n",
              "0    0.000000e+00  0.000000e+00  \n",
              "1    0.000000e+00  0.000000e+00  \n",
              "2    0.000000e+00  0.000000e+00  \n",
              "3    0.000000e+00  0.000000e+00  \n",
              "4    0.000000e+00  0.000000e+00  \n",
              "5    0.000000e+00  0.000000e+00  \n",
              "6    0.000000e+00  0.000000e+00  \n",
              "7    0.000000e+00  0.000000e+00  \n",
              "8    0.000000e+00  0.000000e+00  \n",
              "9    0.000000e+00  0.000000e+00  \n",
              "10   0.000000e+00  0.000000e+00  \n",
              "11   0.000000e+00  0.000000e+00  \n",
              "12   0.000000e+00  0.000000e+00  \n",
              "13   0.000000e+00  0.000000e+00  \n",
              "14   0.000000e+00  0.000000e+00  \n",
              "15   0.000000e+00  0.000000e+00  \n",
              "16   5.633171e-14  3.173262e-27  \n",
              "17   0.000000e+00  0.000000e+00  \n",
              "18   0.000000e+00  0.000000e+00  \n",
              "19   0.000000e+00  0.000000e+00  \n",
              "20   0.000000e+00  0.000000e+00  \n",
              "21   0.000000e+00  0.000000e+00  \n",
              "22   0.000000e+00  0.000000e+00  \n",
              "23   0.000000e+00  0.000000e+00  \n",
              "24   0.000000e+00  0.000000e+00  \n",
              "25   0.000000e+00  0.000000e+00  \n",
              "26   0.000000e+00  0.000000e+00  "
            ],
            "text/html": [
              "\n",
              "  <div id=\"df-0fe4a5d8-3c96-4af5-ad58-f78e9e356660\" class=\"colab-df-container\">\n",
              "    <div>\n",
              "<style scoped>\n",
              "    .dataframe tbody tr th:only-of-type {\n",
              "        vertical-align: middle;\n",
              "    }\n",
              "\n",
              "    .dataframe tbody tr th {\n",
              "        vertical-align: top;\n",
              "    }\n",
              "\n",
              "    .dataframe thead th {\n",
              "        text-align: right;\n",
              "    }\n",
              "</style>\n",
              "<table border=\"1\" class=\"dataframe\">\n",
              "  <thead>\n",
              "    <tr style=\"text-align: right;\">\n",
              "      <th></th>\n",
              "      <th>estado</th>\n",
              "      <th>regiao</th>\n",
              "      <th>total_obitos</th>\n",
              "      <th>media_mensal</th>\n",
              "      <th>qtd_de_datas</th>\n",
              "      <th>desvio_padrao</th>\n",
              "      <th>Variancia</th>\n",
              "    </tr>\n",
              "  </thead>\n",
              "  <tbody>\n",
              "    <tr>\n",
              "      <th>0</th>\n",
              "      <td>TO</td>\n",
              "      <td>Norte</td>\n",
              "      <td>1,060,900.00</td>\n",
              "      <td>1030</td>\n",
              "      <td>892</td>\n",
              "      <td>0.000000e+00</td>\n",
              "      <td>0.000000e+00</td>\n",
              "    </tr>\n",
              "    <tr>\n",
              "      <th>1</th>\n",
              "      <td>SP</td>\n",
              "      <td>Sudeste</td>\n",
              "      <td>482,680,900.00</td>\n",
              "      <td>21970</td>\n",
              "      <td>3645</td>\n",
              "      <td>0.000000e+00</td>\n",
              "      <td>0.000000e+00</td>\n",
              "    </tr>\n",
              "    <tr>\n",
              "      <th>2</th>\n",
              "      <td>SE</td>\n",
              "      <td>Nordeste</td>\n",
              "      <td>1,471,369.00</td>\n",
              "      <td>1213</td>\n",
              "      <td>1033</td>\n",
              "      <td>0.000000e+00</td>\n",
              "      <td>0.000000e+00</td>\n",
              "    </tr>\n",
              "    <tr>\n",
              "      <th>3</th>\n",
              "      <td>SC</td>\n",
              "      <td>Sul</td>\n",
              "      <td>40,309,801.00</td>\n",
              "      <td>6349</td>\n",
              "      <td>2961</td>\n",
              "      <td>0.000000e+00</td>\n",
              "      <td>0.000000e+00</td>\n",
              "    </tr>\n",
              "    <tr>\n",
              "      <th>4</th>\n",
              "      <td>RS</td>\n",
              "      <td>Sul</td>\n",
              "      <td>140,659,600.00</td>\n",
              "      <td>11860</td>\n",
              "      <td>3506</td>\n",
              "      <td>0.000000e+00</td>\n",
              "      <td>0.000000e+00</td>\n",
              "    </tr>\n",
              "    <tr>\n",
              "      <th>5</th>\n",
              "      <td>RR</td>\n",
              "      <td>Norte</td>\n",
              "      <td>161,604.00</td>\n",
              "      <td>402</td>\n",
              "      <td>383</td>\n",
              "      <td>0.000000e+00</td>\n",
              "      <td>0.000000e+00</td>\n",
              "    </tr>\n",
              "    <tr>\n",
              "      <th>6</th>\n",
              "      <td>RO</td>\n",
              "      <td>Norte</td>\n",
              "      <td>990,025.00</td>\n",
              "      <td>995</td>\n",
              "      <td>866</td>\n",
              "      <td>0.000000e+00</td>\n",
              "      <td>0.000000e+00</td>\n",
              "    </tr>\n",
              "    <tr>\n",
              "      <th>7</th>\n",
              "      <td>RN</td>\n",
              "      <td>Nordeste</td>\n",
              "      <td>3,003,289.00</td>\n",
              "      <td>1733</td>\n",
              "      <td>1368</td>\n",
              "      <td>0.000000e+00</td>\n",
              "      <td>0.000000e+00</td>\n",
              "    </tr>\n",
              "    <tr>\n",
              "      <th>8</th>\n",
              "      <td>RJ</td>\n",
              "      <td>Sudeste</td>\n",
              "      <td>28,869,129.00</td>\n",
              "      <td>5373</td>\n",
              "      <td>2774</td>\n",
              "      <td>0.000000e+00</td>\n",
              "      <td>0.000000e+00</td>\n",
              "    </tr>\n",
              "    <tr>\n",
              "      <th>9</th>\n",
              "      <td>PR</td>\n",
              "      <td>Sul</td>\n",
              "      <td>52,591,504.00</td>\n",
              "      <td>7252</td>\n",
              "      <td>3063</td>\n",
              "      <td>0.000000e+00</td>\n",
              "      <td>0.000000e+00</td>\n",
              "    </tr>\n",
              "    <tr>\n",
              "      <th>10</th>\n",
              "      <td>PI</td>\n",
              "      <td>Nordeste</td>\n",
              "      <td>7,344,100.00</td>\n",
              "      <td>2710</td>\n",
              "      <td>1895</td>\n",
              "      <td>0.000000e+00</td>\n",
              "      <td>0.000000e+00</td>\n",
              "    </tr>\n",
              "    <tr>\n",
              "      <th>11</th>\n",
              "      <td>PE</td>\n",
              "      <td>Nordeste</td>\n",
              "      <td>12,837,889.00</td>\n",
              "      <td>3583</td>\n",
              "      <td>2256</td>\n",
              "      <td>0.000000e+00</td>\n",
              "      <td>0.000000e+00</td>\n",
              "    </tr>\n",
              "    <tr>\n",
              "      <th>12</th>\n",
              "      <td>PB</td>\n",
              "      <td>Nordeste</td>\n",
              "      <td>4,036,081.00</td>\n",
              "      <td>2009</td>\n",
              "      <td>1536</td>\n",
              "      <td>0.000000e+00</td>\n",
              "      <td>0.000000e+00</td>\n",
              "    </tr>\n",
              "    <tr>\n",
              "      <th>13</th>\n",
              "      <td>PA</td>\n",
              "      <td>Norte</td>\n",
              "      <td>6,969,600.00</td>\n",
              "      <td>2640</td>\n",
              "      <td>1814</td>\n",
              "      <td>0.000000e+00</td>\n",
              "      <td>0.000000e+00</td>\n",
              "    </tr>\n",
              "    <tr>\n",
              "      <th>14</th>\n",
              "      <td>MT</td>\n",
              "      <td>Centro Oeste</td>\n",
              "      <td>3,367,225.00</td>\n",
              "      <td>1835</td>\n",
              "      <td>1438</td>\n",
              "      <td>0.000000e+00</td>\n",
              "      <td>0.000000e+00</td>\n",
              "    </tr>\n",
              "    <tr>\n",
              "      <th>15</th>\n",
              "      <td>MS</td>\n",
              "      <td>Centro Oeste</td>\n",
              "      <td>5,244,100.00</td>\n",
              "      <td>2290</td>\n",
              "      <td>1714</td>\n",
              "      <td>0.000000e+00</td>\n",
              "      <td>0.000000e+00</td>\n",
              "    </tr>\n",
              "    <tr>\n",
              "      <th>16</th>\n",
              "      <td>MG</td>\n",
              "      <td>Sudeste</td>\n",
              "      <td>183,358,681.00</td>\n",
              "      <td>13541</td>\n",
              "      <td>3542</td>\n",
              "      <td>5.633171e-14</td>\n",
              "      <td>3.173262e-27</td>\n",
              "    </tr>\n",
              "    <tr>\n",
              "      <th>17</th>\n",
              "      <td>MA</td>\n",
              "      <td>Nordeste</td>\n",
              "      <td>7,160,976.00</td>\n",
              "      <td>2676</td>\n",
              "      <td>1885</td>\n",
              "      <td>0.000000e+00</td>\n",
              "      <td>0.000000e+00</td>\n",
              "    </tr>\n",
              "    <tr>\n",
              "      <th>18</th>\n",
              "      <td>GO</td>\n",
              "      <td>Centro Oeste</td>\n",
              "      <td>19,829,209.00</td>\n",
              "      <td>4453</td>\n",
              "      <td>2531</td>\n",
              "      <td>0.000000e+00</td>\n",
              "      <td>0.000000e+00</td>\n",
              "    </tr>\n",
              "    <tr>\n",
              "      <th>19</th>\n",
              "      <td>ES</td>\n",
              "      <td>Sudeste</td>\n",
              "      <td>3,606,201.00</td>\n",
              "      <td>1899</td>\n",
              "      <td>1473</td>\n",
              "      <td>0.000000e+00</td>\n",
              "      <td>0.000000e+00</td>\n",
              "    </tr>\n",
              "    <tr>\n",
              "      <th>20</th>\n",
              "      <td>DF</td>\n",
              "      <td>Centro Oeste</td>\n",
              "      <td>2,220,100.00</td>\n",
              "      <td>1490</td>\n",
              "      <td>1183</td>\n",
              "      <td>0.000000e+00</td>\n",
              "      <td>0.000000e+00</td>\n",
              "    </tr>\n",
              "    <tr>\n",
              "      <th>21</th>\n",
              "      <td>CE</td>\n",
              "      <td>Nordeste</td>\n",
              "      <td>33,698,025.00</td>\n",
              "      <td>5805</td>\n",
              "      <td>2898</td>\n",
              "      <td>0.000000e+00</td>\n",
              "      <td>0.000000e+00</td>\n",
              "    </tr>\n",
              "    <tr>\n",
              "      <th>22</th>\n",
              "      <td>BA</td>\n",
              "      <td>Nordeste</td>\n",
              "      <td>26,440,164.00</td>\n",
              "      <td>5142</td>\n",
              "      <td>2725</td>\n",
              "      <td>0.000000e+00</td>\n",
              "      <td>0.000000e+00</td>\n",
              "    </tr>\n",
              "    <tr>\n",
              "      <th>23</th>\n",
              "      <td>AP</td>\n",
              "      <td>Norte</td>\n",
              "      <td>184,041.00</td>\n",
              "      <td>429</td>\n",
              "      <td>394</td>\n",
              "      <td>0.000000e+00</td>\n",
              "      <td>0.000000e+00</td>\n",
              "    </tr>\n",
              "    <tr>\n",
              "      <th>24</th>\n",
              "      <td>AM</td>\n",
              "      <td>Norte</td>\n",
              "      <td>4,601,025.00</td>\n",
              "      <td>2145</td>\n",
              "      <td>1588</td>\n",
              "      <td>0.000000e+00</td>\n",
              "      <td>0.000000e+00</td>\n",
              "    </tr>\n",
              "    <tr>\n",
              "      <th>25</th>\n",
              "      <td>AL</td>\n",
              "      <td>Nordeste</td>\n",
              "      <td>1,343,281.00</td>\n",
              "      <td>1159</td>\n",
              "      <td>988</td>\n",
              "      <td>0.000000e+00</td>\n",
              "      <td>0.000000e+00</td>\n",
              "    </tr>\n",
              "    <tr>\n",
              "      <th>26</th>\n",
              "      <td>AC</td>\n",
              "      <td>Norte</td>\n",
              "      <td>258,064.00</td>\n",
              "      <td>508</td>\n",
              "      <td>470</td>\n",
              "      <td>0.000000e+00</td>\n",
              "      <td>0.000000e+00</td>\n",
              "    </tr>\n",
              "  </tbody>\n",
              "</table>\n",
              "</div>\n",
              "    <div class=\"colab-df-buttons\">\n",
              "\n",
              "  <div class=\"colab-df-container\">\n",
              "    <button class=\"colab-df-convert\" onclick=\"convertToInteractive('df-0fe4a5d8-3c96-4af5-ad58-f78e9e356660')\"\n",
              "            title=\"Convert this dataframe to an interactive table.\"\n",
              "            style=\"display:none;\">\n",
              "\n",
              "  <svg xmlns=\"http://www.w3.org/2000/svg\" height=\"24px\" viewBox=\"0 -960 960 960\">\n",
              "    <path d=\"M120-120v-720h720v720H120Zm60-500h600v-160H180v160Zm220 220h160v-160H400v160Zm0 220h160v-160H400v160ZM180-400h160v-160H180v160Zm440 0h160v-160H620v160ZM180-180h160v-160H180v160Zm440 0h160v-160H620v160Z\"/>\n",
              "  </svg>\n",
              "    </button>\n",
              "\n",
              "  <style>\n",
              "    .colab-df-container {\n",
              "      display:flex;\n",
              "      gap: 12px;\n",
              "    }\n",
              "\n",
              "    .colab-df-convert {\n",
              "      background-color: #E8F0FE;\n",
              "      border: none;\n",
              "      border-radius: 50%;\n",
              "      cursor: pointer;\n",
              "      display: none;\n",
              "      fill: #1967D2;\n",
              "      height: 32px;\n",
              "      padding: 0 0 0 0;\n",
              "      width: 32px;\n",
              "    }\n",
              "\n",
              "    .colab-df-convert:hover {\n",
              "      background-color: #E2EBFA;\n",
              "      box-shadow: 0px 1px 2px rgba(60, 64, 67, 0.3), 0px 1px 3px 1px rgba(60, 64, 67, 0.15);\n",
              "      fill: #174EA6;\n",
              "    }\n",
              "\n",
              "    .colab-df-buttons div {\n",
              "      margin-bottom: 4px;\n",
              "    }\n",
              "\n",
              "    [theme=dark] .colab-df-convert {\n",
              "      background-color: #3B4455;\n",
              "      fill: #D2E3FC;\n",
              "    }\n",
              "\n",
              "    [theme=dark] .colab-df-convert:hover {\n",
              "      background-color: #434B5C;\n",
              "      box-shadow: 0px 1px 3px 1px rgba(0, 0, 0, 0.15);\n",
              "      filter: drop-shadow(0px 1px 2px rgba(0, 0, 0, 0.3));\n",
              "      fill: #FFFFFF;\n",
              "    }\n",
              "  </style>\n",
              "\n",
              "    <script>\n",
              "      const buttonEl =\n",
              "        document.querySelector('#df-0fe4a5d8-3c96-4af5-ad58-f78e9e356660 button.colab-df-convert');\n",
              "      buttonEl.style.display =\n",
              "        google.colab.kernel.accessAllowed ? 'block' : 'none';\n",
              "\n",
              "      async function convertToInteractive(key) {\n",
              "        const element = document.querySelector('#df-0fe4a5d8-3c96-4af5-ad58-f78e9e356660');\n",
              "        const dataTable =\n",
              "          await google.colab.kernel.invokeFunction('convertToInteractive',\n",
              "                                                    [key], {});\n",
              "        if (!dataTable) return;\n",
              "\n",
              "        const docLinkHtml = 'Like what you see? Visit the ' +\n",
              "          '<a target=\"_blank\" href=https://colab.research.google.com/notebooks/data_table.ipynb>data table notebook</a>'\n",
              "          + ' to learn more about interactive tables.';\n",
              "        element.innerHTML = '';\n",
              "        dataTable['output_type'] = 'display_data';\n",
              "        await google.colab.output.renderOutput(dataTable, element);\n",
              "        const docLink = document.createElement('div');\n",
              "        docLink.innerHTML = docLinkHtml;\n",
              "        element.appendChild(docLink);\n",
              "      }\n",
              "    </script>\n",
              "  </div>\n",
              "\n",
              "\n",
              "<div id=\"df-827dff3c-863f-4c6a-98c4-398d1bc205a2\">\n",
              "  <button class=\"colab-df-quickchart\" onclick=\"quickchart('df-827dff3c-863f-4c6a-98c4-398d1bc205a2')\"\n",
              "            title=\"Suggest charts\"\n",
              "            style=\"display:none;\">\n",
              "\n",
              "<svg xmlns=\"http://www.w3.org/2000/svg\" height=\"24px\"viewBox=\"0 0 24 24\"\n",
              "     width=\"24px\">\n",
              "    <g>\n",
              "        <path d=\"M19 3H5c-1.1 0-2 .9-2 2v14c0 1.1.9 2 2 2h14c1.1 0 2-.9 2-2V5c0-1.1-.9-2-2-2zM9 17H7v-7h2v7zm4 0h-2V7h2v10zm4 0h-2v-4h2v4z\"/>\n",
              "    </g>\n",
              "</svg>\n",
              "  </button>\n",
              "\n",
              "<style>\n",
              "  .colab-df-quickchart {\n",
              "      --bg-color: #E8F0FE;\n",
              "      --fill-color: #1967D2;\n",
              "      --hover-bg-color: #E2EBFA;\n",
              "      --hover-fill-color: #174EA6;\n",
              "      --disabled-fill-color: #AAA;\n",
              "      --disabled-bg-color: #DDD;\n",
              "  }\n",
              "\n",
              "  [theme=dark] .colab-df-quickchart {\n",
              "      --bg-color: #3B4455;\n",
              "      --fill-color: #D2E3FC;\n",
              "      --hover-bg-color: #434B5C;\n",
              "      --hover-fill-color: #FFFFFF;\n",
              "      --disabled-bg-color: #3B4455;\n",
              "      --disabled-fill-color: #666;\n",
              "  }\n",
              "\n",
              "  .colab-df-quickchart {\n",
              "    background-color: var(--bg-color);\n",
              "    border: none;\n",
              "    border-radius: 50%;\n",
              "    cursor: pointer;\n",
              "    display: none;\n",
              "    fill: var(--fill-color);\n",
              "    height: 32px;\n",
              "    padding: 0;\n",
              "    width: 32px;\n",
              "  }\n",
              "\n",
              "  .colab-df-quickchart:hover {\n",
              "    background-color: var(--hover-bg-color);\n",
              "    box-shadow: 0 1px 2px rgba(60, 64, 67, 0.3), 0 1px 3px 1px rgba(60, 64, 67, 0.15);\n",
              "    fill: var(--button-hover-fill-color);\n",
              "  }\n",
              "\n",
              "  .colab-df-quickchart-complete:disabled,\n",
              "  .colab-df-quickchart-complete:disabled:hover {\n",
              "    background-color: var(--disabled-bg-color);\n",
              "    fill: var(--disabled-fill-color);\n",
              "    box-shadow: none;\n",
              "  }\n",
              "\n",
              "  .colab-df-spinner {\n",
              "    border: 2px solid var(--fill-color);\n",
              "    border-color: transparent;\n",
              "    border-bottom-color: var(--fill-color);\n",
              "    animation:\n",
              "      spin 1s steps(1) infinite;\n",
              "  }\n",
              "\n",
              "  @keyframes spin {\n",
              "    0% {\n",
              "      border-color: transparent;\n",
              "      border-bottom-color: var(--fill-color);\n",
              "      border-left-color: var(--fill-color);\n",
              "    }\n",
              "    20% {\n",
              "      border-color: transparent;\n",
              "      border-left-color: var(--fill-color);\n",
              "      border-top-color: var(--fill-color);\n",
              "    }\n",
              "    30% {\n",
              "      border-color: transparent;\n",
              "      border-left-color: var(--fill-color);\n",
              "      border-top-color: var(--fill-color);\n",
              "      border-right-color: var(--fill-color);\n",
              "    }\n",
              "    40% {\n",
              "      border-color: transparent;\n",
              "      border-right-color: var(--fill-color);\n",
              "      border-top-color: var(--fill-color);\n",
              "    }\n",
              "    60% {\n",
              "      border-color: transparent;\n",
              "      border-right-color: var(--fill-color);\n",
              "    }\n",
              "    80% {\n",
              "      border-color: transparent;\n",
              "      border-right-color: var(--fill-color);\n",
              "      border-bottom-color: var(--fill-color);\n",
              "    }\n",
              "    90% {\n",
              "      border-color: transparent;\n",
              "      border-bottom-color: var(--fill-color);\n",
              "    }\n",
              "  }\n",
              "</style>\n",
              "\n",
              "  <script>\n",
              "    async function quickchart(key) {\n",
              "      const quickchartButtonEl =\n",
              "        document.querySelector('#' + key + ' button');\n",
              "      quickchartButtonEl.disabled = true;  // To prevent multiple clicks.\n",
              "      quickchartButtonEl.classList.add('colab-df-spinner');\n",
              "      try {\n",
              "        const charts = await google.colab.kernel.invokeFunction(\n",
              "            'suggestCharts', [key], {});\n",
              "      } catch (error) {\n",
              "        console.error('Error during call to suggestCharts:', error);\n",
              "      }\n",
              "      quickchartButtonEl.classList.remove('colab-df-spinner');\n",
              "      quickchartButtonEl.classList.add('colab-df-quickchart-complete');\n",
              "    }\n",
              "    (() => {\n",
              "      let quickchartButtonEl =\n",
              "        document.querySelector('#df-827dff3c-863f-4c6a-98c4-398d1bc205a2 button');\n",
              "      quickchartButtonEl.style.display =\n",
              "        google.colab.kernel.accessAllowed ? 'block' : 'none';\n",
              "    })();\n",
              "  </script>\n",
              "</div>\n",
              "\n",
              "    </div>\n",
              "  </div>\n"
            ],
            "application/vnd.google.colaboratory.intrinsic+json": {
              "type": "dataframe",
              "summary": "{\n  \"name\": \"       \",\n  \"rows\": 27,\n  \"fields\": [\n    {\n      \"column\": \"estado\",\n      \"properties\": {\n        \"dtype\": \"string\",\n        \"num_unique_values\": 27,\n        \"samples\": [\n          \"RJ\",\n          \"PA\",\n          \"PR\"\n        ],\n        \"semantic_type\": \"\",\n        \"description\": \"\"\n      }\n    },\n    {\n      \"column\": \"regiao\",\n      \"properties\": {\n        \"dtype\": \"category\",\n        \"num_unique_values\": 5,\n        \"samples\": [\n          \"Sudeste\",\n          \"Centro Oeste\",\n          \"Nordeste\"\n        ],\n        \"semantic_type\": \"\",\n        \"description\": \"\"\n      }\n    },\n    {\n      \"column\": \"total_obitos\",\n      \"properties\": {\n        \"dtype\": \"string\",\n        \"num_unique_values\": 27,\n        \"samples\": [\n          \"28,869,129.00\",\n          \"6,969,600.00\",\n          \"52,591,504.00\"\n        ],\n        \"semantic_type\": \"\",\n        \"description\": \"\"\n      }\n    },\n    {\n      \"column\": \"media_mensal\",\n      \"properties\": {\n        \"dtype\": \"int32\",\n        \"num_unique_values\": 27,\n        \"samples\": [\n          5373,\n          2640,\n          7252\n        ],\n        \"semantic_type\": \"\",\n        \"description\": \"\"\n      }\n    },\n    {\n      \"column\": \"qtd_de_datas\",\n      \"properties\": {\n        \"dtype\": \"number\",\n        \"std\": 990,\n        \"min\": 383,\n        \"max\": 3645,\n        \"num_unique_values\": 27,\n        \"samples\": [\n          2774,\n          1814,\n          3063\n        ],\n        \"semantic_type\": \"\",\n        \"description\": \"\"\n      }\n    },\n    {\n      \"column\": \"desvio_padrao\",\n      \"properties\": {\n        \"dtype\": \"number\",\n        \"std\": 1.0841042974288353e-14,\n        \"min\": 0.0,\n        \"max\": 5.633171171551512e-14,\n        \"num_unique_values\": 2,\n        \"samples\": [\n          5.633171171551512e-14,\n          0.0\n        ],\n        \"semantic_type\": \"\",\n        \"description\": \"\"\n      }\n    },\n    {\n      \"column\": \"Variancia\",\n      \"properties\": {\n        \"dtype\": \"number\",\n        \"std\": 6.1069450752312225e-28,\n        \"min\": 0.0,\n        \"max\": 3.173261744799904e-27,\n        \"num_unique_values\": 2,\n        \"samples\": [\n          3.173261744799904e-27,\n          0.0\n        ],\n        \"semantic_type\": \"\",\n        \"description\": \"\"\n      }\n    }\n  ]\n}"
            }
          },
          "metadata": {},
          "execution_count": 35
        }
      ]
    },
    {
      "cell_type": "code",
      "source": [
        "# Criando views\n",
        "suic.createOrReplaceTempView(\"s_sui\")\n",
        "mort_est.createOrReplaceTempView(\"s_m_est\")"
      ],
      "metadata": {
        "id": "9w7XFw0qChCz"
      },
      "execution_count": 36,
      "outputs": []
    },
    {
      "cell_type": "code",
      "source": [
        "# Criando novo dataframe:\n",
        "\n",
        "tab_suicidios = spark.sql(\n",
        "\"\"\"\n",
        "SELECT s.municipio, s.estado, SUM(sme.n) AS total_obitos\n",
        "FROM s_sui s\n",
        "INNER JOIN s_m_est sme ON sme.abrev_estado = s.estado\n",
        "GROUP BY s.municipio, s.estado\n",
        "\"\"\"\n",
        ")"
      ],
      "metadata": {
        "id": "jxAmGP8wCR57"
      },
      "execution_count": 47,
      "outputs": []
    },
    {
      "cell_type": "code",
      "source": [
        "tab_suicidios.show(50, truncate=False)"
      ],
      "metadata": {
        "colab": {
          "base_uri": "https://localhost:8080/"
        },
        "id": "yfOkl2pQGP9R",
        "outputId": "adb2a0e1-1710-4f26-a8cc-f22b53fd8640"
      },
      "execution_count": 49,
      "outputs": [
        {
          "output_type": "stream",
          "name": "stdout",
          "text": [
            "+--------------------------+------+------------+\n",
            "|municipio                 |estado|total_obitos|\n",
            "+--------------------------+------+------------+\n",
            "|Russas                    |CE    |336690      |\n",
            "|Valparaíso de Goiás       |GO    |280539      |\n",
            "|Itaquiraí                 |MS    |32060       |\n",
            "|Mar de Espanha            |MG    |81246       |\n",
            "|Alagoa Nova               |PB    |26117       |\n",
            "|Cafezal do Sul            |PR    |14504       |\n",
            "|Santa Maria da Boa Vista  |PE    |78826       |\n",
            "|Jaguarão                  |RS    |438820      |\n",
            "|Buritirana                |MA    |16056       |\n",
            "|Vista Serrana             |PB    |8036        |\n",
            "|Rondinha                  |RS    |142320      |\n",
            "|Guajará                   |AM    |10725       |\n",
            "|Cezarina                  |GO    |8906        |\n",
            "|Pequi                     |MG    |81246       |\n",
            "|Senador José Bento        |MG    |27082       |\n",
            "|Amaral Ferrador           |RS    |106740      |\n",
            "|Cajati                    |SP    |241670      |\n",
            "|Dom Basílio               |BA    |56562       |\n",
            "|Cabeceira Grande          |MG    |40623       |\n",
            "|Rio Quente                |GO    |4453        |\n",
            "|Ibitiara                  |BA    |61704       |\n",
            "|Muritiba                  |BA    |71988       |\n",
            "|São Gabriel da Palha      |ES    |26586       |\n",
            "|Aragarças                 |GO    |89060       |\n",
            "|Timon                     |MA    |283656      |\n",
            "|Arari                     |MA    |26760       |\n",
            "|Cuparaque                 |MG    |27082       |\n",
            "|Santa Bárbara do Leste    |MG    |94787       |\n",
            "|Visconde do Rio Branco    |MG    |406230      |\n",
            "|Tucumã                    |PA    |44880       |\n",
            "|Serra Branca              |PB    |12054       |\n",
            "|Lapa                      |PR    |159544      |\n",
            "|Salgado Filho             |PR    |43512       |\n",
            "|Floraí                    |PR    |43512       |\n",
            "|Sigefredo Pacheco         |PI    |27100       |\n",
            "|Altos                     |PI    |111110      |\n",
            "|Almirante Tamandaré do Sul|RS    |94880       |\n",
            "|Chuí                      |RS    |166040      |\n",
            "|Barão                     |RS    |94880       |\n",
            "|Araranguá                 |SC    |450779      |\n",
            "|São José Dos Campos       |SP    |4240210     |\n",
            "|Cariré                    |CE    |40635       |\n",
            "|Tesouro                   |MT    |7340        |\n",
            "|Amparo                    |PB    |4018        |\n",
            "|Peabiru                   |PR    |87024       |\n",
            "|Ibema                     |PR    |29008       |\n",
            "|Nossa Senhora de Nazaré   |PI    |16260       |\n",
            "|Ibirá                     |SP    |131820      |\n",
            "|São Joaquim de Bicas      |MG    |121869      |\n",
            "|Painel                    |SC    |19047       |\n",
            "+--------------------------+------+------------+\n",
            "only showing top 50 rows\n",
            "\n"
          ]
        }
      ]
    },
    {
      "cell_type": "code",
      "source": [
        "# Salvando data frame em disco no formato orc.\n",
        "url = \"/content/drive/MyDrive/Colab Notebooks/Saidas\"\n",
        "tab_suicidios.coalesce(1).write.orc(\n",
        "    url,\n",
        "    mode = \"overwrite\"\n",
        ")"
      ],
      "metadata": {
        "id": "qGqVDpMMGtY1"
      },
      "execution_count": 50,
      "outputs": []
    },
    {
      "cell_type": "code",
      "source": [
        "#Salvando data frame em disco no formato csv.\n",
        "url = \"/content/drive/MyDrive/Colab Notebooks/Saidas\"\n",
        "tab_suicidios.coalesce(1).write.csv(\n",
        "    url,\n",
        "    mode = \"overwrite\"\n",
        ")"
      ],
      "metadata": {
        "id": "G7j3N3fZG9cK"
      },
      "execution_count": 51,
      "outputs": []
    }
  ]
}